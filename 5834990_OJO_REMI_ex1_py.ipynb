{
  "nbformat": 4,
  "nbformat_minor": 0,
  "metadata": {
    "colab": {
      "provenance": []
    },
    "kernelspec": {
      "name": "python3",
      "display_name": "Python 3"
    }
  },
  "cells": [
    {
      "cell_type": "markdown",
      "metadata": {
        "id": "hy0azQCVlCiR"
      },
      "source": [
        "# MMAI 894 - Exercise 1\n",
        "## Feedforward artificial neural network : Image classification\n",
        "The goal of this excercise is to show you how to create your first neural network using the tensorflow/keras library. We will be using the MNIST dataset.\n",
        "\n",
        "Submission instructions:\n",
        "- You cannot edit this notebook directly. Save a copy to your drive, and make sure to identify yourself in the title using name and student number\n",
        "- Do not insert new cells before the final one (titled \"Further exploration\") \n",
        "- Verify that your notebook can _restart and run all_. \n",
        "- Select File -> Download as .py (important! not as ipynb)\n",
        "- Rename the file: `studentID_lastname_firstname_ex1.py`\n",
        "- The mark will be assessed on the implementation of the functions with #TODO\n",
        "- **Do not change anything outside the functions**  unless in the further exploration section\n",
        "- The mark is not based on final accuracy - only on correctness\n",
        "- Note: You do not have to answer the questions in thie notebook as part of your submission. They are meant to guide you.\n",
        "\n",
        "- You should not need to use any additional libraries other than the ones listed below. You may want to import additional modules from those libraries, however.\n",
        "\n",
        "References\n",
        "- https://keras.io/getting-started/sequential-model-guide/\n",
        "- https://keras.io/api/utils/python_utils/#to_categorical-function\n",
        "- https://scikit-learn.org/stable/modules/generated/sklearn.model_selection.train_test_split.html\n",
        "- https://keras.io/api/layers/core_layers/dense/\n",
        "- https://keras.io/api/layers/regularization_layers/dropout/\n",
        "- https://keras.io/api/models/model_training_apis/\n"
      ]
    },
    {
      "cell_type": "markdown",
      "metadata": {
        "id": "qp33aomJmJtl"
      },
      "source": [
        "### Libraries"
      ]
    },
    {
      "cell_type": "code",
      "metadata": {
        "id": "trOyfziVgETH"
      },
      "source": [
        "# Import modules\n",
        "# Add modules as needed\n",
        "from sklearn.datasets import fetch_openml\n",
        "from sklearn.model_selection import train_test_split\n",
        "from sklearn import preprocessing\n",
        "from sklearn.preprocessing import StandardScaler\n",
        "from sklearn.metrics import classification_report\n",
        "\n",
        "# For windows laptops add following 2 lines:\n",
        "import matplotlib\n",
        "matplotlib.use('agg')\n",
        "\n",
        "import matplotlib.pyplot as plt\n",
        "import tensorflow as tf\n",
        "\n",
        "import tensorflow.keras as keras\n",
        "from tensorflow.keras.models import Sequential\n",
        "from tensorflow.keras import layers\n",
        "from tensorflow.keras.layers import Dense, Dropout\n",
        "from tensorflow.keras.optimizers import SGD\n",
        "from tensorflow.keras import backend as K\n",
        "import numpy as np\n",
        "import pandas as pd\n",
        "import argparse\n",
        "\n",
        "%matplotlib inline"
      ],
      "execution_count": null,
      "outputs": []
    },
    {
      "cell_type": "markdown",
      "metadata": {
        "id": "_ZmZEVmTmQGH"
      },
      "source": [
        "### Data preparation\n",
        "\n",
        "#### Import data"
      ]
    },
    {
      "cell_type": "code",
      "metadata": {
        "id": "0gRy7rVvg_Sl"
      },
      "source": [
        "def load_data():\n",
        "    # Import MNIST dataset from openml\n",
        "    dataset = fetch_openml('mnist_784', version=1, data_home=None, as_frame=False)\n",
        "\n",
        "    # Data preparation\n",
        "    raw_X = dataset['data']\n",
        "    raw_Y = dataset['target']\n",
        "    return raw_X, raw_Y\n",
        "\n",
        "raw_X, raw_Y = load_data()\n"
      ],
      "execution_count": null,
      "outputs": []
    },
    {
      "cell_type": "markdown",
      "metadata": {
        "id": "YEwXHBQh8r93"
      },
      "source": [
        "## Consider the following\n",
        "- what shape is X?\n",
        "- what value ranges does X take? \n",
        " - might this present a problem? \n",
        " - what transformations need to be applied?\n",
        "- what shape is Y?\n",
        "- what value ranges does Y take? \n",
        " - what transformations should be applied?"
      ]
    },
    {
      "cell_type": "code",
      "metadata": {
        "id": "RT499lYakFjo"
      },
      "source": [
        "def clean_data(raw_X, raw_Y):\n",
        "    # TODO: clean, QA, and prep raw_X and raw_Y\n",
        "    # DO NOT CHANGE THE INPUTS OR OUTPUTS TO THIS FUNCTION\n",
        "\n",
        "    raw_X = (raw_X/255).astype(\"float32\")\n",
        "\n",
        "    cleaned_X = tf.keras.utils.normalize(raw_X, axis=-1, order=1)\n",
        "    cleaned_Y = tf.keras.utils.to_categorical(raw_Y)\n",
        "\n",
        "    return cleaned_X, cleaned_Y\n",
        "\n",
        "cleaned_X, cleaned_Y = clean_data(raw_X, raw_Y)\n",
        "\n"
      ],
      "execution_count": null,
      "outputs": []
    },
    {
      "cell_type": "markdown",
      "metadata": {
        "id": "MpfxuSt4nKUw"
      },
      "source": [
        "#### Data split\n",
        "\n",
        "- Split your data into a train set (50%), validation set (20%) and a test set (30%). You may use scikit-learn's train_test_split function."
      ]
    },
    {
      "cell_type": "code",
      "metadata": {
        "id": "7gjkRpwbkP1j"
      },
      "source": [
        "def split_data(cleaned_X, cleaned_Y):\n",
        "    # TODO: split the data\n",
        "    # DO NOT CHANGE THE INPUTS OR OUTPUTS TO THIS FUNCTION\n",
        "    train_ratio = 0.50\n",
        "    validation_ratio = 0.20\n",
        "    test_ratio = 0.30\n",
        "\n",
        "    X_train, X_test, Y_train, Y_test = train_test_split(cleaned_X, cleaned_Y, test_size=1 - train_ratio)\n",
        "    X_val, X_test, Y_val, Y_test = train_test_split(X_test, Y_test, test_size=test_ratio/(test_ratio + validation_ratio))\n",
        "\n",
        "    Y_train = Y_train.astype(\"float32\")\n",
        "    Y_test = Y_test.astype(\"float32\")\n",
        "    X_val = X_val.astype(\"float32\")\n",
        "    X_test = X_test.astype(\"float32\")\n",
        "    X_train = X_train.astype(\"float32\")\n",
        "    Y_val = Y_val.astype(\"float32\")\n",
        "    \n",
        "\n",
        "    return X_val, X_test, X_train, Y_val, Y_test, Y_train\n",
        "\n",
        "X_val, X_test, X_train, Y_val, Y_test, Y_train = split_data(cleaned_X, cleaned_Y)"
      ],
      "execution_count": null,
      "outputs": []
    },
    {
      "cell_type": "markdown",
      "metadata": {
        "id": "lGHlLLTanrUI"
      },
      "source": [
        "#### [Optional]: plot your data with matplotlib\n",
        "- Hint: you will need to reshape the row's data into a 28x28 matrix\n",
        "- https://matplotlib.org/3.1.1/api/_as_gen/matplotlib.pyplot.imshow.html\n",
        "- https://docs.scipy.org/doc/numpy/reference/generated/numpy.reshape.html"
      ]
    },
    {
      "cell_type": "code",
      "metadata": {
        "id": "wYpoQEMEkUhL",
        "colab": {
          "base_uri": "https://localhost:8080/",
          "height": 1000
        },
        "outputId": "c92cfa1d-9295-4f51-c095-b171cb128352"
      },
      "source": [
        "from collections import ChainMap\n",
        "from matplotlib.colors import Colormap\n",
        "def viz_data(X_train):\n",
        "    X_train_sample = X_train[:10,]\n",
        "    # TODO: (optional) plot your data with matplotlib\n",
        "    # DO NOT CHANGE THE INPUTS OR OUTPUTS TO THIS FUNCTION\n",
        "    Y_train_sample = X_train[:10,]\n",
        "\n",
        "    for i in range(0,10,1):\n",
        "      pixels = X_train_sample[i]\n",
        "      pixels = np.array(pixels, dtype = 'float32')\n",
        "      pixels = pixels.reshape((28,28))\n",
        "      plt.imshow(pixels, cmap='Blues')\n",
        "      plt.show()\n",
        "\n",
        "viz_data(X_train)"
      ],
      "execution_count": null,
      "outputs": [
        {
          "output_type": "display_data",
          "data": {
            "image/png": "[encoded data removed]",
            "text/plain": [
              "<Figure size 432x288 with 1 Axes>"
            ]
          },
          "metadata": {
            "needs_background": "light"
          }
        },
        {
          "output_type": "display_data",
          "data": {
            "image/png": "[encoded data removed]",
            "text/plain": [
              "<Figure size 432x288 with 1 Axes>"
            ]
          },
          "metadata": {
            "needs_background": "light"
          }
        },
        {
          "output_type": "display_data",
          "data": {
            "image/png": "[encoded data removed]",
            "text/plain": [
              "<Figure size 432x288 with 1 Axes>"
            ]
          },
          "metadata": {
            "needs_background": "light"
          }
        },
        {
          "output_type": "display_data",
          "data": {
            "image/png": "[encoded data removed]",
            "text/plain": [
              "<Figure size 432x288 with 1 Axes>"
            ]
          },
          "metadata": {
            "needs_background": "light"
          }
        },
        {
          "output_type": "display_data",
          "data": {
            "image/png": "[encoded data removed]",
            "text/plain": [
              "<Figure size 432x288 with 1 Axes>"
            ]
          },
          "metadata": {
            "needs_background": "light"
          }
        },
        {
          "output_type": "display_data",
          "data": {
            "image/png": "[encoded data removed]",
            "text/plain": [
              "<Figure size 432x288 with 1 Axes>"
            ]
          },
          "metadata": {
            "needs_background": "light"
          }
        },
        {
          "output_type": "display_data",
          "data": {
            "image/png": "[encoded data removed]",
            "text/plain": [
              "<Figure size 432x288 with 1 Axes>"
            ]
          },
          "metadata": {
            "needs_background": "light"
          }
        },
        {
          "output_type": "display_data",
          "data": {
            "image/png": "[encoded data removed]",
            "text/plain": [
              "<Figure size 432x288 with 1 Axes>"
            ]
          },
          "metadata": {
            "needs_background": "light"
          }
        },
        {
          "output_type": "display_data",
          "data": {
            "image/png": "[encoded data removed]",
            "text/plain": [
              "<Figure size 432x288 with 1 Axes>"
            ]
          },
          "metadata": {
            "needs_background": "light"
          }
        },
        {
          "output_type": "display_data",
          "data": {
            "image/png": "[encoded data removed]",
            "text/plain": [
              "<Figure size 432x288 with 1 Axes>"
            ]
          },
          "metadata": {
            "needs_background": "light"
          }
        }
      ]
    },
    {
      "cell_type": "markdown",
      "metadata": {
        "id": "WRTFvCTzn12X"
      },
      "source": [
        "### Model\n",
        "\n",
        "#### Neural network structure\n",
        "- For this network, we'll use 2 hidden layers\n",
        "- Layer 1 should have 128 nodes, a dropout rate of 20%, and relu as its activation function\n",
        "- Layer 2 should have 64 nodes, a dropout rate of 20%, and relu as its activation function\n",
        "- The last layer should map back to the 10 possible MNIST class. Use softmax as the activation\n",
        "\n"
      ]
    },
    {
      "cell_type": "code",
      "metadata": {
        "id": "pgoOjxY9ki_O",
        "colab": {
          "base_uri": "https://localhost:8080/"
        },
        "outputId": "97c53043-8647-4cb8-b417-7511f36cb359"
      },
      "source": [
        "def build_model():\n",
        "    # TODO: build the model, \n",
        "    # HINT: you should have Total params: 109,386\n",
        "    # DO NOT CHANGE THE INPUTS OR OUTPUTS TO THIS FUNCTION\n",
        "\n",
        "    model = tf.keras.models.Sequential([\n",
        "    tf.keras.layers.Dense(128, activation='relu'),\n",
        "    tf.keras.layers.Dropout(0.2),\n",
        "    tf.keras.layers.Dense(64, activation='relu'),\n",
        "    tf.keras.layers.Dropout(0.2),\n",
        "    tf.keras.layers.Dense(10, activation='softmax')])\n",
        "    \n",
        "    \n",
        "    return model\n",
        "\n",
        "model = build_model()\n",
        "predictions = model(X_train[:1]).numpy()\n",
        "tf.nn.softmax(predictions).numpy()"
      ],
      "execution_count": null,
      "outputs": [
        {
          "output_type": "execute_result",
          "data": {
            "text/plain": [
              "array([[0.10003974, 0.10000207, 0.09999799, 0.09998591, 0.10000404,\n",
              "        0.10000823, 0.09996229, 0.09998494, 0.10002153, 0.09999324]],\n",
              "      dtype=float32)"
            ]
          },
          "metadata": {},
          "execution_count": 6
        }
      ]
    },
    {
      "cell_type": "markdown",
      "metadata": {
        "id": "vqv4in2ZodVR"
      },
      "source": [
        "# Model compilation\n",
        "\n",
        "- what loss function should you use?\n",
        "- Note your choice of optimizer\n",
        "- Include accuracy as a metric (why are we using accuracy here?)\n",
        "\n",
        "# Model training\n",
        "- Use a batch size of 128, and train for 12 epochs\n",
        "- Use verbose training, include validation data\n"
      ]
    },
    {
      "cell_type": "code",
      "metadata": {
        "id": "dHD6wIDlk095",
        "colab": {
          "base_uri": "https://localhost:8080/"
        },
        "outputId": "01e88f08-3e4d-4eef-e77b-2ece2a5bd9a2"
      },
      "source": [
        "def compile_model(model):\n",
        "    # TODO: compile the model\n",
        "    # DO NOT CHANGE THE INPUTS OR OUTPUTS TO THIS FUNCTION\n",
        "    model.compile(\n",
        "        optimizer=tf.keras.optimizers.Adam(learning_rate=3e-4),\n",
        "        loss=tf.keras.losses.BinaryCrossentropy(\n",
        "      from_logits=True, label_smoothing=0.0, axis=-1),\n",
        "        metrics=[tf.keras.metrics.BinaryAccuracy(),\n",
        "        tf.keras.metrics.FalseNegatives()])\n",
        "\n",
        "    return model\n",
        "\n",
        "def train_model(model, X_train, Y_train, X_val, Y_val):\n",
        "    # TODO: train the model\n",
        "    # DO NOT CHANGE THE INPUTS OR OUTPUTS TO THIS FUNCTION\n",
        "\n",
        "\n",
        "    history = model.fit(\n",
        "    x=X_train,\n",
        "    y=Y_train,\n",
        "    batch_size=128,\n",
        "    epochs=12,\n",
        "    verbose=\"auto\",\n",
        "    validation_data=(X_val, Y_val)\n",
        "\n",
        "    )\n",
        "    return model, history\n",
        "\n",
        "\n",
        "model = compile_model(model)\n",
        "model, history = train_model(model, X_train, Y_train, X_val, Y_val)"
      ],
      "execution_count": null,
      "outputs": [
        {
          "output_type": "stream",
          "name": "stdout",
          "text": [
            "Epoch 1/12\n"
          ]
        },
        {
          "output_type": "stream",
          "name": "stderr",
          "text": [
            "/usr/local/lib/python3.7/dist-packages/tensorflow/python/util/dispatch.py:1096: UserWarning: \"`binary_crossentropy` received `from_logits=True`, but the `output` argument was produced by a sigmoid or softmax activation and thus does not represent logits. Was this intended?\"\n",
            "  return dispatch_target(*args, **kwargs)\n"
          ]
        },
        {
          "output_type": "stream",
          "name": "stdout",
          "text": [
            "274/274 [==============================] - 3s 7ms/step - loss: 0.4408 - binary_accuracy: 0.9000 - false_negatives: 35000.0000 - val_loss: 0.3230 - val_binary_accuracy: 0.9000 - val_false_negatives: 14000.0000\n",
            "Epoch 2/12\n",
            "274/274 [==============================] - 2s 6ms/step - loss: 0.3223 - binary_accuracy: 0.9000 - false_negatives: 34990.0000 - val_loss: 0.3009 - val_binary_accuracy: 0.9000 - val_false_negatives: 14000.0000\n",
            "Epoch 3/12\n",
            "274/274 [==============================] - 1s 5ms/step - loss: 0.2791 - binary_accuracy: 0.9063 - false_negatives: 32592.0000 - val_loss: 0.2438 - val_binary_accuracy: 0.9093 - val_false_negatives: 12626.0000\n",
            "Epoch 4/12\n",
            "274/274 [==============================] - 1s 5ms/step - loss: 0.2321 - binary_accuracy: 0.9138 - false_negatives: 29533.0000 - val_loss: 0.1985 - val_binary_accuracy: 0.9243 - val_false_negatives: 10419.0000\n",
            "Epoch 5/12\n",
            "274/274 [==============================] - 1s 5ms/step - loss: 0.1963 - binary_accuracy: 0.9278 - false_negatives: 23563.0000 - val_loss: 0.1668 - val_binary_accuracy: 0.9414 - val_false_negatives: 7820.0000\n",
            "Epoch 6/12\n",
            "274/274 [==============================] - 2s 6ms/step - loss: 0.1687 - binary_accuracy: 0.9409 - false_negatives: 18072.0000 - val_loss: 0.1404 - val_binary_accuracy: 0.9529 - val_false_negatives: 5874.0000\n",
            "Epoch 7/12\n",
            "274/274 [==============================] - 2s 6ms/step - loss: 0.1474 - binary_accuracy: 0.9502 - false_negatives: 14122.0000 - val_loss: 0.1218 - val_binary_accuracy: 0.9626 - val_false_negatives: 4279.0000\n",
            "Epoch 8/12\n",
            "274/274 [==============================] - 1s 5ms/step - loss: 0.1311 - binary_accuracy: 0.9577 - false_negatives: 11112.0000 - val_loss: 0.1083 - val_binary_accuracy: 0.9698 - val_false_negatives: 3182.0000\n",
            "Epoch 9/12\n",
            "274/274 [==============================] - 2s 6ms/step - loss: 0.1193 - binary_accuracy: 0.9629 - false_negatives: 9151.0000 - val_loss: 0.0977 - val_binary_accuracy: 0.9737 - val_false_negatives: 2595.0000\n",
            "Epoch 10/12\n",
            "274/274 [==============================] - 2s 6ms/step - loss: 0.1087 - binary_accuracy: 0.9677 - false_negatives: 7631.0000 - val_loss: 0.0888 - val_binary_accuracy: 0.9762 - val_false_negatives: 2230.0000\n",
            "Epoch 11/12\n",
            "274/274 [==============================] - 2s 6ms/step - loss: 0.1010 - binary_accuracy: 0.9698 - false_negatives: 6863.0000 - val_loss: 0.0819 - val_binary_accuracy: 0.9774 - val_false_negatives: 2029.0000\n",
            "Epoch 12/12\n",
            "274/274 [==============================] - 2s 6ms/step - loss: 0.0940 - binary_accuracy: 0.9726 - false_negatives: 6018.0000 - val_loss: 0.0759 - val_binary_accuracy: 0.9794 - val_false_negatives: 1793.0000\n"
          ]
        }
      ]
    },
    {
      "cell_type": "markdown",
      "metadata": {
        "id": "v6wzs18_ormL"
      },
      "source": [
        "# Model evaluation\n",
        "- Show the performance on the test set\n",
        "- What is the difference between \"evaluate\" and \"predict\"?\n",
        "- Identify a few images the model classifies incorrectly. Any observations?"
      ]
    },
    {
      "cell_type": "code",
      "metadata": {
        "id": "jxrqJb9Uk3Hz",
        "colab": {
          "base_uri": "https://localhost:8080/"
        },
        "outputId": "2d882a47-2a27-43dc-9745-14b34cd9a6ec"
      },
      "source": [
        "def eval_model(model, X_test, Y_test):\n",
        "    # TODO: evaluate the model\n",
        "    # DO NOT CHANGE THE INPUTS OR OUTPUTS TO THIS FUNCTION\n",
        "\n",
        "    # Evaluate the model on the test data using `evaluate`\n",
        "    print(\"Evaluate on test data\")\n",
        "    results = model.evaluate(X_test, Y_test, batch_size=128)\n",
        "    print(\"test loss, test acc:\", results)\n",
        "    test_loss = results[0]\n",
        "    test_accuracy = results[1]\n",
        "\n",
        "    # Generate predictions (probabilities -- the output of the last layer)\n",
        "    # on new data using `predict`\n",
        "    print(\"Generate predictions for 3 samples\")\n",
        "    predictions = model.predict(X_test[:3])\n",
        "    print(\"predictions shape:\", predictions.shape)\n",
        "\n",
        "    return test_loss, test_accuracy\n",
        "\n",
        "test_loss, test_accuracy = eval_model(model, X_test, Y_test)"
      ],
      "execution_count": null,
      "outputs": [
        {
          "output_type": "stream",
          "name": "stdout",
          "text": [
            "Evaluate on test data\n",
            "165/165 [==============================] - 0s 3ms/step - loss: 0.0787 - binary_accuracy: 0.9781 - false_negatives: 2838.0000\n",
            "test loss, test acc: [0.07866644114255905, 0.9781095385551453, 2838.0]\n",
            "Generate predictions for 3 samples\n",
            "predictions shape: (3, 10)\n"
          ]
        }
      ]
    },
    {
      "cell_type": "code",
      "source": [
        "#Look at an incorrect prediction\n",
        "predicted_classes = model.predict(X_test)\n",
        "predicted_classes = np.argmax(np.round(predicted_classes),axis=1)\n",
        "incorrect = np.where(predicted_classes!=Y_test)[0]\n",
        "\n",
        "for i, incorrect in enumerate(incorrect[:9]):\n",
        "    plt.subplot(3,3,i+1)\n",
        "    plt.imshow(X_test[incorrect].reshape(28,28), cmap='Blues', interpolation='none')\n",
        "    plt.tight_layout()\n",
        "\n",
        "np.sum(np.argmax(predictions, 1) == np.argmax(labels, 1))"
      ],
      "metadata": {
        "colab": {
          "base_uri": "https://localhost:8080/",
          "height": 338
        },
        "id": "7r3To7hyO2no",
        "outputId": "ba21e10f-9e3a-40c9-dbd4-f36dc01ee980"
      },
      "execution_count": null,
      "outputs": [
        {
          "output_type": "stream",
          "name": "stderr",
          "text": [
            "/usr/local/lib/python3.7/dist-packages/ipykernel_launcher.py:4: DeprecationWarning: elementwise comparison failed; this will raise an error in the future.\n",
            "  after removing the cwd from sys.path.\n"
          ]
        },
        {
          "output_type": "error",
          "ename": "NameError",
          "evalue": "ignored",
          "traceback": [
            "\u001b[0;31m---------------------------------------------------------------------------\u001b[0m",
            "\u001b[0;31mNameError\u001b[0m                                 Traceback (most recent call last)",
            "\u001b[0;32m<ipython-input-9-100036186387>\u001b[0m in \u001b[0;36m<module>\u001b[0;34m()\u001b[0m\n\u001b[1;32m      9\u001b[0m     \u001b[0mplt\u001b[0m\u001b[0;34m.\u001b[0m\u001b[0mtight_layout\u001b[0m\u001b[0;34m(\u001b[0m\u001b[0;34m)\u001b[0m\u001b[0;34m\u001b[0m\u001b[0;34m\u001b[0m\u001b[0m\n\u001b[1;32m     10\u001b[0m \u001b[0;34m\u001b[0m\u001b[0m\n\u001b[0;32m---> 11\u001b[0;31m \u001b[0mnp\u001b[0m\u001b[0;34m.\u001b[0m\u001b[0msum\u001b[0m\u001b[0;34m(\u001b[0m\u001b[0mnp\u001b[0m\u001b[0;34m.\u001b[0m\u001b[0margmax\u001b[0m\u001b[0;34m(\u001b[0m\u001b[0mpredictions\u001b[0m\u001b[0;34m,\u001b[0m \u001b[0;36m1\u001b[0m\u001b[0;34m)\u001b[0m \u001b[0;34m==\u001b[0m \u001b[0mnp\u001b[0m\u001b[0;34m.\u001b[0m\u001b[0margmax\u001b[0m\u001b[0;34m(\u001b[0m\u001b[0mlabels\u001b[0m\u001b[0;34m,\u001b[0m \u001b[0;36m1\u001b[0m\u001b[0;34m)\u001b[0m\u001b[0;34m)\u001b[0m\u001b[0;34m\u001b[0m\u001b[0;34m\u001b[0m\u001b[0m\n\u001b[0m",
            "\u001b[0;31mNameError\u001b[0m: name 'labels' is not defined"
          ]
        },
        {
          "output_type": "display_data",
          "data": {
            "image/png": "[encoded data removed]",
            "text/plain": [
              "<Figure size 432x288 with 1 Axes>"
            ]
          },
          "metadata": {
            "needs_background": "light"
          }
        }
      ]
    },
    {
      "cell_type": "markdown",
      "metadata": {
        "id": "u21sXyjWpnPX"
      },
      "source": [
        "## Further exploration (Not evaluated)\n",
        "Looking for something else  to do?\n",
        "- Transform your code to do hyperparameter search. \n",
        "- You can vary the number of nodes in the layers, the drop out rate, the optimizer and the parameters in Adam, the batch size, etc.\n"
      ]
    }
  ]
}